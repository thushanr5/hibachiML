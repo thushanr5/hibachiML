{
 "cells": [
  {
   "cell_type": "code",
   "execution_count": 2,
   "id": "fa1ef599",
   "metadata": {},
   "outputs": [
    {
     "name": "stdout",
     "output_type": "stream",
     "text": [
      "What is your name: S\n",
      "What is your name: C\n",
      "What is your name: T\n",
      "Salmon Fried Rice is your choice of food based on this model S\n",
      "Salmon Fried Rice is your choice of food based on this model C\n",
      "Chicken Fried Rice is your choice of food based on this model T\n"
     ]
    }
   ],
   "source": [
    "import pandas as pd\n",
    "from sklearn.tree import DecisionTreeClassifier\n",
    "\n",
    "names = []\n",
    "input_one = str(input('What is your name: '))\n",
    "input_two = str(input(\"What is your name: \"))\n",
    "input_three = str(input(\"What is your name: \"))\n",
    "\n",
    "for input_uno in range(0,1):\n",
    "    names.append(input_one)\n",
    "for input_dos in range(0,1):\n",
    "    names.append(input_two)\n",
    "for input_tres in range(0,1):\n",
    "    names.append(input_three)\n",
    "        \n",
    "df = pd.read_csv('hibachi.csv')\n",
    "X = df.drop(columns=['food name'])\n",
    "y = df['food name']\n",
    "\n",
    "model = DecisionTreeClassifier()\n",
    "model.fit(X.values,y)\n",
    "predictions = model.predict( [ [51,1],[53,0],[17,1] ] )\n",
    "\n",
    "# predictions\n",
    "input_pos = 0\n",
    "\n",
    "for food in range(0, len(predictions)):\n",
    "    print(predictions[food], 'is your choice of food based on this model',names[input_pos])\n",
    "    input_pos+=1\n",
    "  "
   ]
  },
  {
   "cell_type": "code",
   "execution_count": null,
   "id": "4f62b74d",
   "metadata": {},
   "outputs": [],
   "source": []
  }
 ],
 "metadata": {
  "kernelspec": {
   "display_name": "Python 3 (ipykernel)",
   "language": "python",
   "name": "python3"
  },
  "language_info": {
   "codemirror_mode": {
    "name": "ipython",
    "version": 3
   },
   "file_extension": ".py",
   "mimetype": "text/x-python",
   "name": "python",
   "nbconvert_exporter": "python",
   "pygments_lexer": "ipython3",
   "version": "3.9.13"
  }
 },
 "nbformat": 4,
 "nbformat_minor": 5
}
